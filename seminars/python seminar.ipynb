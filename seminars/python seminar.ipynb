{
 "metadata": {
  "language_info": {
   "codemirror_mode": {
    "name": "ipython",
    "version": 3
   },
   "file_extension": ".py",
   "mimetype": "text/x-python",
   "name": "python",
   "nbconvert_exporter": "python",
   "pygments_lexer": "ipython3",
   "version": "3.9.1-final"
  },
  "orig_nbformat": 2,
  "kernelspec": {
   "name": "python3",
   "display_name": "Python 3.9.1 64-bit",
   "metadata": {
    "interpreter": {
     "hash": "c80d1d8c41c868d474aef6bb2e6cdd67704b8038da8f0ff573aa56049aaf545b"
    }
   }
  }
 },
 "nbformat": 4,
 "nbformat_minor": 2,
 "cells": [
  {
   "source": [
    "### Hello"
   ],
   "cell_type": "markdown",
   "metadata": {}
  },
  {
   "cell_type": "code",
   "execution_count": null,
   "metadata": {},
   "outputs": [],
   "source": [
    "print(\"hello, world\")"
   ]
  },
  {
   "source": [
    "### Greet"
   ],
   "cell_type": "markdown",
   "metadata": {}
  },
  {
   "source": [
    "name = input(\"What's your name? \")\n",
    "print(\"hello,\", name)"
   ],
   "cell_type": "code",
   "metadata": {},
   "execution_count": null,
   "outputs": []
  },
  {
   "source": [
    "### Sum"
   ],
   "cell_type": "markdown",
   "metadata": {}
  },
  {
   "cell_type": "code",
   "execution_count": null,
   "metadata": {},
   "outputs": [],
   "source": [
    "x = int(input(\"x: \"))\n",
    "y = int(input(\"y: \"))\n",
    "print(x + y)"
   ]
  },
  {
   "source": [
    "### Ifs"
   ],
   "cell_type": "markdown",
   "metadata": {}
  },
  {
   "cell_type": "code",
   "execution_count": null,
   "metadata": {},
   "outputs": [],
   "source": [
    "x = int(input(\"x: \"))\n",
    "\n",
    "if x > 0:\n",
    "    print(\"positive\")\n",
    "elif x == 0:\n",
    "    print(\"zero\")\n",
    "else:\n",
    "    print(\"negative\")"
   ]
  },
  {
   "source": [
    "### While"
   ],
   "cell_type": "markdown",
   "metadata": {}
  },
  {
   "cell_type": "code",
   "execution_count": null,
   "metadata": {},
   "outputs": [],
   "source": [
    "i = 0\n",
    "\n",
    "while i < 5:\n",
    "    print(\"hello, world\")\n",
    "    i += 1"
   ]
  },
  {
   "source": [
    "### For"
   ],
   "cell_type": "markdown",
   "metadata": {}
  },
  {
   "cell_type": "code",
   "execution_count": null,
   "metadata": {},
   "outputs": [],
   "source": [
    "for i in range(5):\n",
    "    print(\"hello, world\")"
   ]
  },
  {
   "source": [
    "### Exercise 1, keeping track of mileage over 10 days"
   ],
   "cell_type": "markdown",
   "metadata": {}
  },
  {
   "cell_type": "code",
   "execution_count": null,
   "metadata": {},
   "outputs": [],
   "source": [
    "list = []\n",
    "\n",
    "for i in range(10):\n",
    "    list.append(int(input(f\"Day {i+1}: \")))\n",
    "\n",
    "print(sum(list))"
   ]
  },
  {
   "source": [
    "### Positive (while loop)"
   ],
   "cell_type": "markdown",
   "metadata": {}
  },
  {
   "cell_type": "code",
   "execution_count": null,
   "metadata": {},
   "outputs": [],
   "source": [
    "while True:\n",
    "    x = int(input(\"Positive int: \"))\n",
    "    if x > 0:\n",
    "        break\n",
    "    \n",
    "print(x)"
   ]
  },
  {
   "source": [
    "### NY countdown"
   ],
   "cell_type": "markdown",
   "metadata": {}
  },
  {
   "cell_type": "code",
   "execution_count": null,
   "metadata": {},
   "outputs": [],
   "source": [
    "import random\n",
    "\n",
    "def main():\n",
    "    num = random.randint(5, 10)\n",
    "    countdown(num)\n",
    "    print(\"Happy New Year!\")\n",
    "\n",
    "def countdown(n):\n",
    "    for i in range(n):\n",
    "        print(n - i)\n",
    "\n",
    "main()"
   ]
  },
  {
   "source": [
    "### Exercise 2, Guessing game"
   ],
   "cell_type": "markdown",
   "metadata": {}
  },
  {
   "cell_type": "code",
   "execution_count": null,
   "metadata": {},
   "outputs": [],
   "source": [
    "import random\n",
    "\n",
    "number = random.randint(1, 10)\n",
    "\n",
    "for i in range(3):\n",
    "    guess = int(input(\"What is your guess? \"))\n",
    "    if guess == number:\n",
    "        print(\"You win!\")\n",
    "        break\n",
    "    elif i == 2:\n",
    "        print(f\"You lose. Number was {number}\")\n",
    "    else:\n",
    "        print(\"Try again. It's a number between 1 and 10.\")        "
   ]
  },
  {
   "source": [
    "### Maximum"
   ],
   "cell_type": "markdown",
   "metadata": {}
  },
  {
   "cell_type": "code",
   "execution_count": null,
   "metadata": {},
   "outputs": [],
   "source": [
    "def main():\n",
    "    x = int(input(\"x:\"))\n",
    "    y = int(input(\"y:\"))\n",
    "    print(f\"The maximum is {maximum (x,y)}\")\n",
    "\n",
    "def maximum(a, b):\n",
    "    if a > b:\n",
    "        return a\n",
    "    else:\n",
    "        return b\n",
    "\n",
    "main()    "
   ]
  },
  {
   "source": [
    "### Scores"
   ],
   "cell_type": "markdown",
   "metadata": {}
  },
  {
   "cell_type": "code",
   "execution_count": null,
   "metadata": {},
   "outputs": [],
   "source": [
    "def print_scores(lis):\n",
    "    [print(\"~\" * n) for n in lis]\n",
    "\n",
    "n = int(input(\"Number of scores: \"))\n",
    "\n",
    "sc_list = []\n",
    "\n",
    "for i in range(n):\n",
    "    sc_list.append(int(input(f\"Score {i}: \")))\n",
    "\n",
    "print_scores(sc_list)"
   ]
  },
  {
   "source": [
    "### Grid"
   ],
   "cell_type": "markdown",
   "metadata": {}
  },
  {
   "cell_type": "code",
   "execution_count": null,
   "metadata": {},
   "outputs": [],
   "source": [
    "n = int(input(\"Enter number: \"))\n",
    "\n",
    "def printer(i):\n",
    "    [print(\"#\" * i) for x in range(i)]\n",
    "\n",
    "printer(n)     "
   ]
  },
  {
   "cell_type": "code",
   "execution_count": null,
   "metadata": {},
   "outputs": [],
   "source": [
    "n = int(input(\"Number: \"))\n",
    "\n",
    "for i in range(n):\n",
    "    print(\"#\" * n)"
   ]
  },
  {
   "source": [
    "## Richi's problem"
   ],
   "cell_type": "markdown",
   "metadata": {}
  },
  {
   "cell_type": "code",
   "execution_count": 4,
   "metadata": {},
   "outputs": [
    {
     "output_type": "execute_result",
     "data": {
      "text/plain": [
       "'BBoorriiss'"
      ]
     },
     "metadata": {},
     "execution_count": 4
    }
   ],
   "source": [
    "test = \"Boris\"\n",
    "\n",
    "def double_letter(str):\n",
    "    new_str = \"\"\n",
    "    for i in str:\n",
    "        new_str += i*2\n",
    "    return new_str\n",
    "\n",
    "double_letter(test)"
   ]
  }
 ]
}